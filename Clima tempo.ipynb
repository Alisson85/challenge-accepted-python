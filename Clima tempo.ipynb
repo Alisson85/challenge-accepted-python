{
 "cells": [
  {
   "cell_type": "code",
   "execution_count": null,
   "metadata": {},
   "outputs": [],
   "source": [
    "# Bibliotecas usadas\n",
    "import xarray as xr\n",
    "import numpy as np\n",
    "import pandas as pd\n",
    "import matplotlib.pyplot  as plt\n",
    "\n",
    "\n",
    "\n",
    "import cartopy.feature as cfeature\n",
    "import cartopy.crs as ccrs\n",
    "from cartopy.mpl.gridliner import LATITUDE_FORMATTER, LONGITUDE_FORMATTER\n",
    "\n",
    "forecast= xr.open_dataset('E:\\\\Notebooks\\\\Clima tempo\\\\Arquivos NetCDF4\\\\forecast.nc')\n",
    "forecast\n"
   ]
  },
  {
   "cell_type": "code",
   "execution_count": null,
   "metadata": {},
   "outputs": [],
   "source": [
    "observacao = xr.open_dataset('E:\\\\Notebooks\\\\Clima tempo\\\\Arquivos NetCDF4\\\\observation.nc')\n",
    "observacao"
   ]
  },
  {
   "cell_type": "code",
   "execution_count": null,
   "metadata": {},
   "outputs": [],
   "source": [
    "### Combinando arquivos\n",
    "\n",
    "series = xr.combine_by_coords([forecast,observacao])\n",
    "series "
   ]
  },
  {
   "cell_type": "code",
   "execution_count": null,
   "metadata": {},
   "outputs": [],
   "source": [
    "forecastSP = series.sel( lat=slice(-23.5489),lon=slice(-46.6388))\n",
    "forecastSP"
   ]
  },
  {
   "cell_type": "code",
   "execution_count": null,
   "metadata": {
    "scrolled": true
   },
   "outputs": [],
   "source": [
    "### Convertendo Kelvin e Celsius e Trantando outlliers\n",
    "\n",
    "TempSP = forecastSP['t2m'] - 273.15\n",
    "TempSP = TempSP.fillna(0) \n",
    "TempSP\n",
    "\n",
    "\n",
    "##### Selecionando dados de SP\n",
    "\n",
    "TempSP = TempSP.sel( lat = 0, lon = 26, method ='nearest')\n",
    "TempSP.plot()"
   ]
  },
  {
   "cell_type": "code",
   "execution_count": null,
   "metadata": {},
   "outputs": [],
   "source": [
    "Graf1 = plt.figure(figsize= (10,8))\n",
    "\n",
    "\n"
   ]
  },
  {
   "cell_type": "code",
   "execution_count": null,
   "metadata": {},
   "outputs": [],
   "source": [
    "# Criando eixo \n",
    "\n",
    "ax = Graf1.add_subplot(111,projection = ccrs.PlateCarree())\n",
    "\n"
   ]
  },
  {
   "cell_type": "code",
   "execution_count": null,
   "metadata": {},
   "outputs": [],
   "source": [
    "# Matriz de longitude e latitude\n",
    "\n",
    "lon,lat = np.meshgrid(TempSP.lon, TempSP.lat)\n",
    "\n"
   ]
  },
  {
   "cell_type": "code",
   "execution_count": null,
   "metadata": {},
   "outputs": [],
   "source": []
  }
 ],
 "metadata": {
  "kernelspec": {
   "display_name": "Python 3",
   "language": "python",
   "name": "python3"
  },
  "language_info": {
   "codemirror_mode": {
    "name": "ipython",
    "version": 3
   },
   "file_extension": ".py",
   "mimetype": "text/x-python",
   "name": "python",
   "nbconvert_exporter": "python",
   "pygments_lexer": "ipython3",
   "version": "3.8.5"
  }
 },
 "nbformat": 4,
 "nbformat_minor": 4
}
